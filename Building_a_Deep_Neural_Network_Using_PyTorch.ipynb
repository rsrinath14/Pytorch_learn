{
  "nbformat": 4,
  "nbformat_minor": 0,
  "metadata": {
    "colab": {
      "name": "Building a Deep Neural Network Using PyTorch.ipynb",
      "provenance": [],
      "collapsed_sections": []
    },
    "kernelspec": {
      "name": "python3",
      "display_name": "Python 3"
    }
  },
  "cells": [
    {
      "cell_type": "code",
      "metadata": {
        "id": "m0kZriiqkrlO",
        "colab_type": "code",
        "colab": {}
      },
      "source": [
        "import pandas as pd\n",
        "import numpy as np\n",
        "import torch\n",
        "import torch.nn as nn\n",
        "import torch.optim as optim\n",
        "import matplotlib.pyplot as plt"
      ],
      "execution_count": null,
      "outputs": []
    },
    {
      "cell_type": "code",
      "metadata": {
        "id": "OpmlfiyPk8xz",
        "colab_type": "code",
        "colab": {}
      },
      "source": [
        "data = pd.read_csv(\"https://raw.githubusercontent.com/PacktWorkshops/The-Deep-Learning-with-PyTorch-Workshop/master/Chapter01/Activity1.01/SomervilleHappinessSurvey2015.csv\")"
      ],
      "execution_count": null,
      "outputs": []
    },
    {
      "cell_type": "code",
      "metadata": {
        "id": "LpHiO2h7lDkK",
        "colab_type": "code",
        "colab": {}
      },
      "source": [
        "x = torch.tensor(data.iloc[:,1:].values).float()"
      ],
      "execution_count": null,
      "outputs": []
    },
    {
      "cell_type": "code",
      "metadata": {
        "id": "oNJSE7lHlS77",
        "colab_type": "code",
        "colab": {}
      },
      "source": [
        "y = torch.tensor(data.iloc[:,0].values).float()"
      ],
      "execution_count": null,
      "outputs": []
    },
    {
      "cell_type": "code",
      "metadata": {
        "id": "5F7gnHUHlfAC",
        "colab_type": "code",
        "colab": {}
      },
      "source": [
        "model = nn.Sequential(nn.Linear(6,1),\n",
        "                      nn.Sigmoid(),\n",
        "                      )"
      ],
      "execution_count": null,
      "outputs": []
    },
    {
      "cell_type": "code",
      "metadata": {
        "id": "FcnKuOttmy1a",
        "colab_type": "code",
        "colab": {}
      },
      "source": [
        "loss_function = nn.MSELoss()"
      ],
      "execution_count": null,
      "outputs": []
    },
    {
      "cell_type": "code",
      "metadata": {
        "id": "sa-jsc4Tm57n",
        "colab_type": "code",
        "colab": {}
      },
      "source": [
        "optimizer = optim.Adam(model.parameters(), lr = 0.01)\n"
      ],
      "execution_count": null,
      "outputs": []
    },
    {
      "cell_type": "code",
      "metadata": {
        "id": "7RAuQsptnNJP",
        "colab_type": "code",
        "colab": {
          "base_uri": "https://localhost:8080/",
          "height": 1000
        },
        "outputId": "8d59f3a2-a9c4-40b1-95d7-fdefbbc9f61e"
      },
      "source": [
        "losses = []\n",
        "for i in range(100):\n",
        "  y_pred = model(x)\n",
        "  loss = loss_function(y_pred, y)\n",
        "  losses.append(loss.item())\n",
        "  optimizer.zero_grad()\n",
        "  loss.backward()\n",
        "  optimizer.step()\n",
        "  print(loss.item())"
      ],
      "execution_count": null,
      "outputs": [
        {
          "output_type": "stream",
          "text": [
            "/usr/local/lib/python3.6/dist-packages/torch/nn/modules/loss.py:445: UserWarning: Using a target size (torch.Size([143])) that is different to the input size (torch.Size([143, 1])). This will likely lead to incorrect results due to broadcasting. Please ensure they have the same size.\n",
            "  return F.mse_loss(input, target, reduction=self.reduction)\n"
          ],
          "name": "stderr"
        },
        {
          "output_type": "stream",
          "text": [
            "0.4171363115310669\n",
            "0.39724820852279663\n",
            "0.3758006691932678\n",
            "0.3533693850040436\n",
            "0.330824613571167\n",
            "0.30932918190956116\n",
            "0.2902514338493347\n",
            "0.2749572992324829\n",
            "0.26448580622673035\n",
            "0.25918442010879517\n",
            "0.2585020363330841\n",
            "0.26112100481987\n",
            "0.26541486382484436\n",
            "0.2699440121650696\n",
            "0.27372175455093384\n",
            "0.27622729539871216\n",
            "0.27729010581970215\n",
            "0.2769674062728882\n",
            "0.2754523754119873\n",
            "0.273023396730423\n",
            "0.2700124680995941\n",
            "0.2667788565158844\n",
            "0.2636825740337372\n",
            "0.2610468566417694\n",
            "0.25911766290664673\n",
            "0.2580223083496094\n",
            "0.257748007774353\n",
            "0.2581484913825989\n",
            "0.25897982716560364\n",
            "0.25995779037475586\n",
            "0.2608204483985901\n",
            "0.261374831199646\n",
            "0.2615208923816681\n",
            "0.2612534761428833\n",
            "0.2606467306613922\n",
            "0.25982606410980225\n",
            "0.2589399814605713\n",
            "0.2581275701522827\n",
            "0.25749486684799194\n",
            "0.2570982277393341\n",
            "0.25694164633750916\n",
            "0.2569822669029236\n",
            "0.2571483850479126\n",
            "0.25735536217689514\n",
            "0.2575289309024811\n",
            "0.25761449337005615\n",
            "0.2575840950012207\n",
            "0.2574400007724762\n",
            "0.25720667839050293\n",
            "0.2569241523742676\n",
            "0.25663670897483826\n",
            "0.2563835382461548\n",
            "0.2561923861503601\n",
            "0.2560727596282959\n",
            "0.25601887702941895\n",
            "0.25601011514663696\n",
            "0.25602009892463684\n",
            "0.2560226321220398\n",
            "0.25599756836891174\n",
            "0.25593510270118713\n",
            "0.2558363378047943\n",
            "0.25571075081825256\n",
            "0.25557366013526917\n",
            "0.25544071197509766\n",
            "0.2553238272666931\n",
            "0.25522929430007935\n",
            "0.2551579177379608\n",
            "0.2551026940345764\n",
            "0.2550564110279083\n",
            "0.25500866770744324\n",
            "0.2549534738063812\n",
            "0.254886269569397\n",
            "0.2548074722290039\n",
            "0.2547200620174408\n",
            "0.25462979078292847\n",
            "0.2545407712459564\n",
            "0.254457950592041\n",
            "0.2543829679489136\n",
            "0.2543156147003174\n",
            "0.2542531490325928\n",
            "0.25419244170188904\n",
            "0.25413092970848083\n",
            "0.25406619906425476\n",
            "0.2539971172809601\n",
            "0.25392529368400574\n",
            "0.2538513243198395\n",
            "0.2537778913974762\n",
            "0.2537068724632263\n",
            "0.25363796949386597\n",
            "0.25357216596603394\n",
            "0.253508985042572\n",
            "0.2534466087818146\n",
            "0.25338438153266907\n",
            "0.2533208429813385\n",
            "0.25325679779052734\n",
            "0.25319185853004456\n",
            "0.25312674045562744\n",
            "0.25306209921836853\n",
            "0.25299835205078125\n",
            "0.25293615460395813\n"
          ],
          "name": "stdout"
        }
      ]
    },
    {
      "cell_type": "code",
      "metadata": {
        "id": "jsedWaeMn2LM",
        "colab_type": "code",
        "colab": {
          "base_uri": "https://localhost:8080/",
          "height": 269
        },
        "outputId": "5fe84294-14a8-4a91-d7b9-bae9e9bf461b"
      },
      "source": [
        "plt.plot(range(0,100), losses)\n",
        "plt.show()"
      ],
      "execution_count": null,
      "outputs": [
        {
          "output_type": "display_data",
          "data": {
            "image/png": "[encoded data removed]",
            "text/plain": [
              "<Figure size 432x288 with 1 Axes>"
            ]
          },
          "metadata": {
            "tags": [],
            "needs_background": "light"
          }
        }
      ]
    },
    {
      "cell_type": "code",
      "metadata": {
        "id": "FtFi7GoyoFl2",
        "colab_type": "code",
        "colab": {}
      },
      "source": [
        ""
      ],
      "execution_count": null,
      "outputs": []
    }
  ]
}