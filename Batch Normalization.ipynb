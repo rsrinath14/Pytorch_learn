{
  "nbformat": 4,
  "nbformat_minor": 0,
  "metadata": {
    "colab": {
      "name": "Batch Normalization.ipynb",
      "provenance": [],
      "collapsed_sections": []
    },
    "kernelspec": {
      "name": "python3",
      "display_name": "Python 3"
    },
    "accelerator": "GPU"
  },
  "cells": [
    {
      "cell_type": "code",
      "metadata": {
        "id": "o47vc3lsuSB3"
      },
      "source": [
        "import numpy as np\n",
        "import torch\n",
        "from torch import nn, optim\n",
        "import torch.nn.functional as F\n",
        "from torchvision import datasets\n",
        "import torchvision.transforms as transforms\n",
        "from torch.utils.data.sampler import SubsetRandomSampler\n",
        "from sklearn.metrics import accuracy_score\n",
        "import matplotlib.pyplot as plt"
      ],
      "execution_count": 1,
      "outputs": []
    },
    {
      "cell_type": "code",
      "metadata": {
        "id": "WeC8SJ49uUhL"
      },
      "source": [
        "transform = {\n",
        "    \"train\": transforms.Compose([\n",
        "             transforms.RandomHorizontalFlip(0.5),\n",
        "             transforms.RandomGrayscale(0.1),\n",
        "             transforms.ToTensor(),\n",
        "             transforms.Normalize((0.5,0.5,0.5),(0.5,0.5,0.5))\n",
        "             ]),\n",
        "    \"test\": transforms.Compose([\n",
        "            transforms.ToTensor(),\n",
        "            transforms.Normalize((0.5,0.5,0.5),(0.5,0.5,0.5))  \n",
        "            ])\n",
        "    \n",
        "}"
      ],
      "execution_count": 2,
      "outputs": []
    },
    {
      "cell_type": "code",
      "metadata": {
        "id": "gb59Xd-muUok",
        "outputId": "dd69e106-5449-4b14-9ea7-722c4050bf33",
        "colab": {
          "base_uri": "https://localhost:8080/"
        }
      },
      "source": [
        "batch_size = 100\n",
        "train_data = datasets.CIFAR10('data', train = True, download = True, transform = transform['train'])\n",
        "test_data = datasets.CIFAR10('data', train = False, download = True, transform = transform['test'])\n"
      ],
      "execution_count": 3,
      "outputs": [
        {
          "output_type": "stream",
          "text": [
            "Files already downloaded and verified\n",
            "Files already downloaded and verified\n"
          ],
          "name": "stdout"
        }
      ]
    },
    {
      "cell_type": "code",
      "metadata": {
        "id": "-UnI-odyuUmc"
      },
      "source": [
        "dev_size = 0.2\n",
        "idx = list(range(len(train_data)))\n",
        "np.random.shuffle(idx)\n",
        "split_size = int(np.floor(dev_size * len(train_data)))\n",
        "train_idx, dev_idx = idx[split_size:], idx[:split_size]\n"
      ],
      "execution_count": 4,
      "outputs": []
    },
    {
      "cell_type": "code",
      "metadata": {
        "id": "F-tcMwG8uUkX"
      },
      "source": [
        "train_sampler = SubsetRandomSampler(train_idx)\n",
        "dev_sampler = SubsetRandomSampler(dev_idx)"
      ],
      "execution_count": 5,
      "outputs": []
    },
    {
      "cell_type": "code",
      "metadata": {
        "id": "hyPCQ5WkuUec"
      },
      "source": [
        "train_loader = torch.utils.data.DataLoader(train_data, batch_size = batch_size, sampler = train_sampler)\n",
        "dev_loader = torch.utils.data.DataLoader(train_data, batch_size = batch_size, sampler = dev_sampler )\n",
        "test_loader = torch.utils.data.DataLoader(test_data, batch_size = batch_size)"
      ],
      "execution_count": 6,
      "outputs": []
    },
    {
      "cell_type": "code",
      "metadata": {
        "id": "DBXhJIFUuUck"
      },
      "source": [
        "class CNN(nn.Module):\n",
        "    def __init__(self):\n",
        "      super(CNN,self).__init__()\n",
        "      self.conv1 = nn.Conv2d(3,10,3,1,1)\n",
        "      self.conv2 = nn.Conv2d(10,20,3,1,1)\n",
        "      self.conv3 = nn.Conv2d(20,40,3,1,1)\n",
        "      self.pool = nn.MaxPool2d(2,2)\n",
        "      self.dropout = nn.Dropout(0.2)\n",
        "      self.linear1 = nn.Linear(40*4*4, 100)\n",
        "      self.linear2 = nn.Linear(100,10)\n",
        "      self.norm1 = nn.BatchNorm2d(10)\n",
        "      self.norm2 = nn.BatchNorm2d(20)\n",
        "      self.norm3 = nn.BatchNorm2d(40)\n",
        "      self.norm4 = nn.BatchNorm1d(100)\n",
        "\n",
        "    def forward(self,x):\n",
        "      x = self.pool(self.norm1(F.relu(self.conv1(x))))\n",
        "      x = self.pool(self.norm2(F.relu(self.conv2(x))))\n",
        "      x = self.pool(self.norm3(F.relu(self.conv3(x))))\n",
        "      x = x.view(-1,40*4*4)\n",
        "      x = self.dropout(x)\n",
        "      x = self.norm4(F.relu(self.linear1(x)))\n",
        "      x = self.dropout(x)\n",
        "      x = F.log_softmax(self.linear2(x), dim=1)\n",
        "      return x\n"
      ],
      "execution_count": 7,
      "outputs": []
    },
    {
      "cell_type": "code",
      "metadata": {
        "id": "v37uub8CuTYs"
      },
      "source": [
        "model = CNN().to(\"cuda\")\n",
        "loss_function = nn.NLLLoss()\n",
        "optimizer = optim.Adam(model.parameters(), lr = 0.001)\n",
        "epochs = 50"
      ],
      "execution_count": 8,
      "outputs": []
    },
    {
      "cell_type": "code",
      "metadata": {
        "id": "1hEpfvJlIUxA",
        "outputId": "43c1610d-8fe3-4fbc-cfc1-e68a63399c28",
        "colab": {
          "base_uri": "https://localhost:8080/"
        }
      },
      "source": [
        "train_losses, dev_losses, train_acc, dev_acc= [], [], [], []\n",
        "x_axis = []\n",
        "for e in range(1, epochs+1):\n",
        "    losses = 0\n",
        "    acc = 0\n",
        "    iterations = 0\n",
        "    \n",
        "    model.train()\n",
        "    for data, target in train_loader:\n",
        "        iterations += 1\n",
        "        pred = model(data.to(\"cuda\"))\n",
        "        loss = loss_function(pred, target.to(\"cuda\"))\n",
        "        optimizer.zero_grad()\n",
        "        loss.backward()\n",
        "        optimizer.step()\n",
        "        losses += loss.item()\n",
        "        p = torch.exp(pred)\n",
        "        top_p, top_class = p.topk(1, dim=1)\n",
        "        acc += accuracy_score(target.to(\"cpu\"), top_class.to(\"cpu\"))\n",
        "    dev_losss = 0\n",
        "    dev_accs = 0\n",
        "    iter_2 = 0\n",
        "    if e%5 == 0 or e == 1:\n",
        "        x_axis.append(e)\n",
        "        with torch.no_grad():\n",
        "            model.eval()\n",
        "            for data_dev, target_dev in dev_loader:\n",
        "                iter_2 += 1\n",
        "                dev_pred = model(data_dev.to(\"cuda\"))\n",
        "                dev_loss = loss_function(dev_pred, target_dev.to(\"cuda\"))\n",
        "                dev_losss += dev_loss.item()\n",
        "                dev_p = torch.exp(dev_pred)\n",
        "                top_p, dev_top_class = dev_p.topk(1, dim=1)\n",
        "                dev_accs += accuracy_score(target_dev.to(\"cpu\"), dev_top_class.to(\"cpu\"))\n",
        "        train_losses.append(losses/iterations)\n",
        "        dev_losses.append(dev_losss/iter_2)\n",
        "        train_acc.append(acc/iterations)\n",
        "        dev_acc.append(dev_accs/iter_2)\n",
        "        print(\"Epoch: {}/{}.. \".format(e, epochs), \n",
        "              \"Training Loss: {:.3f}.. \".format(losses/iterations), \n",
        "              \"Validation Loss: {:.3f}.. \".format(dev_losss/iter_2), \n",
        "              \"Training Accuracy: {:.3f}.. \".format(acc/iterations), \n",
        "              \"Validation Accuracy: {:.3f}\".format(dev_accs/iter_2))"
      ],
      "execution_count": 9,
      "outputs": [
        {
          "output_type": "stream",
          "text": [
            "Epoch: 1/50..  Training Loss: 1.448..  Validation Loss: 1.201..  Training Accuracy: 0.483..  Validation Accuracy: 0.569\n",
            "Epoch: 5/50..  Training Loss: 0.926..  Validation Loss: 0.880..  Training Accuracy: 0.674..  Validation Accuracy: 0.688\n",
            "Epoch: 10/50..  Training Loss: 0.792..  Validation Loss: 0.760..  Training Accuracy: 0.722..  Validation Accuracy: 0.733\n",
            "Epoch: 15/50..  Training Loss: 0.726..  Validation Loss: 0.723..  Training Accuracy: 0.744..  Validation Accuracy: 0.748\n",
            "Epoch: 20/50..  Training Loss: 0.685..  Validation Loss: 0.706..  Training Accuracy: 0.760..  Validation Accuracy: 0.753\n",
            "Epoch: 25/50..  Training Loss: 0.655..  Validation Loss: 0.684..  Training Accuracy: 0.770..  Validation Accuracy: 0.761\n",
            "Epoch: 30/50..  Training Loss: 0.630..  Validation Loss: 0.663..  Training Accuracy: 0.780..  Validation Accuracy: 0.774\n",
            "Epoch: 35/50..  Training Loss: 0.619..  Validation Loss: 0.657..  Training Accuracy: 0.781..  Validation Accuracy: 0.769\n",
            "Epoch: 40/50..  Training Loss: 0.600..  Validation Loss: 0.662..  Training Accuracy: 0.790..  Validation Accuracy: 0.771\n",
            "Epoch: 45/50..  Training Loss: 0.587..  Validation Loss: 0.659..  Training Accuracy: 0.793..  Validation Accuracy: 0.770\n",
            "Epoch: 50/50..  Training Loss: 0.578..  Validation Loss: 0.656..  Training Accuracy: 0.796..  Validation Accuracy: 0.770\n"
          ],
          "name": "stdout"
        }
      ]
    },
    {
      "cell_type": "code",
      "metadata": {
        "id": "U3epTpNZZycR",
        "outputId": "48f29d8a-da26-41d1-939c-d9b74a0bd7d5",
        "colab": {
          "base_uri": "https://localhost:8080/",
          "height": 264
        }
      },
      "source": [
        "plt.plot(x_axis,train_losses, label='Training loss')\n",
        "plt.plot(x_axis, dev_losses, label='Validation loss')\n",
        "plt.legend(frameon=False)\n",
        "plt.show()"
      ],
      "execution_count": 10,
      "outputs": [
        {
          "output_type": "display_data",
          "data": {
            "image/png": "[encoded data removed]",
            "text/plain": [
              "<Figure size 432x288 with 1 Axes>"
            ]
          },
          "metadata": {
            "tags": [],
            "needs_background": "light"
          }
        }
      ]
    },
    {
      "cell_type": "code",
      "metadata": {
        "id": "ncMbLIJZc8Qu",
        "outputId": "32431d9c-b4cf-4e63-b19a-7c5c0360623b",
        "colab": {
          "base_uri": "https://localhost:8080/",
          "height": 264
        }
      },
      "source": [
        "plt.plot(x_axis, train_acc, label=\"Training accuracy\")\n",
        "plt.plot(x_axis, dev_acc, label=\"Validation accuracy\")\n",
        "plt.legend(frameon=False)\n",
        "plt.show()"
      ],
      "execution_count": 11,
      "outputs": [
        {
          "output_type": "display_data",
          "data": {
            "image/png": "[encoded data removed]",
            "text/plain": [
              "<Figure size 432x288 with 1 Axes>"
            ]
          },
          "metadata": {
            "tags": [],
            "needs_background": "light"
          }
        }
      ]
    },
    {
      "cell_type": "code",
      "metadata": {
        "id": "d7QME12rruKV",
        "outputId": "3361f3ae-3167-4b14-9c92-876f8cbf168e",
        "colab": {
          "base_uri": "https://localhost:8080/"
        }
      },
      "source": [
        "model.eval()\n",
        "iter_3 = 0\n",
        "acc_test = 0\n",
        "for data_test, target_test in test_loader:\n",
        "    iter_3 += 1\n",
        "    test_pred = model(data_test.to(\"cuda\"))\n",
        "    test_pred = torch.exp(test_pred)\n",
        "    top_p, top_class_test = test_pred.topk(1, dim=1)\n",
        "    acc_test += accuracy_score(target_test .to(\"cpu\"), top_class_test .to(\"cpu\"))\n",
        "print(acc_test/iter_3)"
      ],
      "execution_count": 12,
      "outputs": [
        {
          "output_type": "stream",
          "text": [
            "0.7776000000000002\n"
          ],
          "name": "stdout"
        }
      ]
    }
  ]
}