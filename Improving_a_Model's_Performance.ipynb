{
  "nbformat": 4,
  "nbformat_minor": 0,
  "metadata": {
    "colab": {
      "name": "Copy of  Improving a Model's Performance.ipynb",
      "provenance": [],
      "collapsed_sections": []
    },
    "kernelspec": {
      "name": "python3",
      "display_name": "Python 3"
    }
  },
  "cells": [
    {
      "cell_type": "code",
      "metadata": {
        "id": "ffGYWSkxzHxf",
        "colab_type": "code",
        "colab": {
          "base_uri": "https://localhost:8080/",
          "height": 34
        },
        "outputId": "5b7e6ce9-be69-4783-a9fc-688ec0b0bb4e"
      },
      "source": [
        "import pandas as pd\n",
        "import torch\n",
        "import numpy as np\n",
        "from sklearn.model_selection import train_test_split\n",
        "from sklearn.utils import shuffle\n",
        "from sklearn.metrics import accuracy_score\n",
        "from torch import nn, optim\n",
        "import torch.nn.functional as F\n",
        "import matplotlib.pyplot as plt\n",
        "torch.manual_seed(0)"
      ],
      "execution_count": null,
      "outputs": [
        {
          "output_type": "execute_result",
          "data": {
            "text/plain": [
              "<torch._C.Generator at 0x7f38e43f10c0>"
            ]
          },
          "metadata": {
            "tags": []
          },
          "execution_count": 1
        }
      ]
    },
    {
      "cell_type": "code",
      "metadata": {
        "id": "UWn-r-XBBXjl",
        "colab_type": "code",
        "colab": {
          "base_uri": "https://localhost:8080/",
          "height": 275
        },
        "outputId": "90be61f3-2fb5-492f-d917-be4fd98dfd8f"
      },
      "source": [
        "data = pd.read_csv(\"/content/gdrive/My Drive/datasets and others/dccc_prepared.csv\")\n",
        "data.head()"
      ],
      "execution_count": null,
      "outputs": [
        {
          "output_type": "execute_result",
          "data": {
            "text/html": [
              "<div>\n",
              "<style scoped>\n",
              "    .dataframe tbody tr th:only-of-type {\n",
              "        vertical-align: middle;\n",
              "    }\n",
              "\n",
              "    .dataframe tbody tr th {\n",
              "        vertical-align: top;\n",
              "    }\n",
              "\n",
              "    .dataframe thead th {\n",
              "        text-align: right;\n",
              "    }\n",
              "</style>\n",
              "<table border=\"1\" class=\"dataframe\">\n",
              "  <thead>\n",
              "    <tr style=\"text-align: right;\">\n",
              "      <th></th>\n",
              "      <th>LIMIT_BAL</th>\n",
              "      <th>EDUCATION</th>\n",
              "      <th>MARRIAGE</th>\n",
              "      <th>AGE</th>\n",
              "      <th>PAY_0</th>\n",
              "      <th>PAY_2</th>\n",
              "      <th>PAY_3</th>\n",
              "      <th>PAY_4</th>\n",
              "      <th>PAY_5</th>\n",
              "      <th>PAY_6</th>\n",
              "      <th>BILL_AMT1</th>\n",
              "      <th>BILL_AMT2</th>\n",
              "      <th>BILL_AMT3</th>\n",
              "      <th>BILL_AMT4</th>\n",
              "      <th>BILL_AMT5</th>\n",
              "      <th>BILL_AMT6</th>\n",
              "      <th>PAY_AMT1</th>\n",
              "      <th>PAY_AMT2</th>\n",
              "      <th>PAY_AMT3</th>\n",
              "      <th>PAY_AMT4</th>\n",
              "      <th>PAY_AMT5</th>\n",
              "      <th>PAY_AMT6</th>\n",
              "      <th>default payment next month</th>\n",
              "    </tr>\n",
              "  </thead>\n",
              "  <tbody>\n",
              "    <tr>\n",
              "      <th>0</th>\n",
              "      <td>0.080808</td>\n",
              "      <td>0.333333</td>\n",
              "      <td>0.666667</td>\n",
              "      <td>0.224138</td>\n",
              "      <td>0.2</td>\n",
              "      <td>0.2</td>\n",
              "      <td>0.2</td>\n",
              "      <td>0.2</td>\n",
              "      <td>0.2</td>\n",
              "      <td>0.2</td>\n",
              "      <td>0.172392</td>\n",
              "      <td>0.079532</td>\n",
              "      <td>0.093789</td>\n",
              "      <td>0.173637</td>\n",
              "      <td>0.095470</td>\n",
              "      <td>0.272928</td>\n",
              "      <td>0.001738</td>\n",
              "      <td>0.000891</td>\n",
              "      <td>0.001116</td>\n",
              "      <td>0.001610</td>\n",
              "      <td>0.002345</td>\n",
              "      <td>0.009458</td>\n",
              "      <td>0</td>\n",
              "    </tr>\n",
              "    <tr>\n",
              "      <th>1</th>\n",
              "      <td>0.040404</td>\n",
              "      <td>0.333333</td>\n",
              "      <td>0.333333</td>\n",
              "      <td>0.275862</td>\n",
              "      <td>0.2</td>\n",
              "      <td>0.2</td>\n",
              "      <td>0.2</td>\n",
              "      <td>0.2</td>\n",
              "      <td>0.2</td>\n",
              "      <td>0.2</td>\n",
              "      <td>0.188100</td>\n",
              "      <td>0.111995</td>\n",
              "      <td>0.113407</td>\n",
              "      <td>0.186809</td>\n",
              "      <td>0.109363</td>\n",
              "      <td>0.283685</td>\n",
              "      <td>0.002290</td>\n",
              "      <td>0.001199</td>\n",
              "      <td>0.001339</td>\n",
              "      <td>0.001771</td>\n",
              "      <td>0.002506</td>\n",
              "      <td>0.001892</td>\n",
              "      <td>0</td>\n",
              "    </tr>\n",
              "    <tr>\n",
              "      <th>2</th>\n",
              "      <td>0.040404</td>\n",
              "      <td>0.333333</td>\n",
              "      <td>0.333333</td>\n",
              "      <td>0.620690</td>\n",
              "      <td>0.1</td>\n",
              "      <td>0.2</td>\n",
              "      <td>0.1</td>\n",
              "      <td>0.2</td>\n",
              "      <td>0.2</td>\n",
              "      <td>0.2</td>\n",
              "      <td>0.154144</td>\n",
              "      <td>0.071601</td>\n",
              "      <td>0.106020</td>\n",
              "      <td>0.179863</td>\n",
              "      <td>0.099633</td>\n",
              "      <td>0.275681</td>\n",
              "      <td>0.002290</td>\n",
              "      <td>0.021779</td>\n",
              "      <td>0.011160</td>\n",
              "      <td>0.014493</td>\n",
              "      <td>0.001615</td>\n",
              "      <td>0.001284</td>\n",
              "      <td>0</td>\n",
              "    </tr>\n",
              "    <tr>\n",
              "      <th>3</th>\n",
              "      <td>0.040404</td>\n",
              "      <td>0.166667</td>\n",
              "      <td>0.666667</td>\n",
              "      <td>0.275862</td>\n",
              "      <td>0.2</td>\n",
              "      <td>0.2</td>\n",
              "      <td>0.2</td>\n",
              "      <td>0.2</td>\n",
              "      <td>0.2</td>\n",
              "      <td>0.2</td>\n",
              "      <td>0.203506</td>\n",
              "      <td>0.120381</td>\n",
              "      <td>0.117974</td>\n",
              "      <td>0.178407</td>\n",
              "      <td>0.100102</td>\n",
              "      <td>0.276367</td>\n",
              "      <td>0.002862</td>\n",
              "      <td>0.001078</td>\n",
              "      <td>0.000733</td>\n",
              "      <td>0.001610</td>\n",
              "      <td>0.002345</td>\n",
              "      <td>0.001513</td>\n",
              "      <td>0</td>\n",
              "    </tr>\n",
              "    <tr>\n",
              "      <th>4</th>\n",
              "      <td>0.494949</td>\n",
              "      <td>0.166667</td>\n",
              "      <td>0.666667</td>\n",
              "      <td>0.137931</td>\n",
              "      <td>0.2</td>\n",
              "      <td>0.2</td>\n",
              "      <td>0.2</td>\n",
              "      <td>0.2</td>\n",
              "      <td>0.2</td>\n",
              "      <td>0.2</td>\n",
              "      <td>0.472126</td>\n",
              "      <td>0.457242</td>\n",
              "      <td>0.330672</td>\n",
              "      <td>0.671310</td>\n",
              "      <td>0.559578</td>\n",
              "      <td>0.625196</td>\n",
              "      <td>0.062961</td>\n",
              "      <td>0.023749</td>\n",
              "      <td>0.042409</td>\n",
              "      <td>0.032591</td>\n",
              "      <td>0.032237</td>\n",
              "      <td>0.026047</td>\n",
              "      <td>0</td>\n",
              "    </tr>\n",
              "  </tbody>\n",
              "</table>\n",
              "</div>"
            ],
            "text/plain": [
              "   LIMIT_BAL  EDUCATION  ...  PAY_AMT6  default payment next month\n",
              "0   0.080808   0.333333  ...  0.009458                           0\n",
              "1   0.040404   0.333333  ...  0.001892                           0\n",
              "2   0.040404   0.333333  ...  0.001284                           0\n",
              "3   0.040404   0.166667  ...  0.001513                           0\n",
              "4   0.494949   0.166667  ...  0.026047                           0\n",
              "\n",
              "[5 rows x 23 columns]"
            ]
          },
          "metadata": {
            "tags": []
          },
          "execution_count": 3
        }
      ]
    },
    {
      "cell_type": "code",
      "metadata": {
        "id": "0P8iWk31CvQ2",
        "colab_type": "code",
        "colab": {}
      },
      "source": [
        "X = data.iloc[:,:-1]\n",
        "y = data.iloc[:,-1]"
      ],
      "execution_count": null,
      "outputs": []
    },
    {
      "cell_type": "code",
      "metadata": {
        "id": "8m97wzdmDeaT",
        "colab_type": "code",
        "colab": {}
      },
      "source": [
        "X_new, X_test, y_new, y_test = train_test_split(X,y,test_size = 0.2, random_state = 0)\n",
        "dev_per = X_test.shape[0]/X_new.shape[0]\n",
        "X_train, X_dev, y_train, y_dev = train_test_split(X_new,y_new,test_size = dev_per, random_state = 0)\n"
      ],
      "execution_count": null,
      "outputs": []
    },
    {
      "cell_type": "code",
      "metadata": {
        "id": "Q5VuNvsEE0Ns",
        "colab_type": "code",
        "colab": {}
      },
      "source": [
        "X_dev_torch = torch.tensor(X_dev.values).float()\n",
        "y_dev_torch = torch.tensor(y_dev.values)\n",
        "X_test_torch = torch.tensor(X_test.values).float()\n",
        "y_test_torch = torch.tensor(y_test.values)\n"
      ],
      "execution_count": null,
      "outputs": []
    },
    {
      "cell_type": "code",
      "metadata": {
        "id": "m5gZBREzFKui",
        "colab_type": "code",
        "colab": {}
      },
      "source": [
        "class Classifier(nn.Module):\n",
        "    def __init__(self, input_size):\n",
        "        super().__init__()\n",
        "        self.hidden_1 = nn.Linear(input_size, 100)\n",
        "        self.hidden_2 = nn.Linear(100, 100)\n",
        "        self.hidden_3 = nn.Linear(100, 50)\n",
        "        self.hidden_4 = nn.Linear(50,50)\n",
        "        self.output = nn.Linear(50, 2)\n",
        "        self.dropout = nn.Dropout(p=0.1)\n",
        "    def forward(self, x):\n",
        "        z = self.dropout(F.relu(self.hidden_1(x)))\n",
        "        z = self.dropout(F.relu(self.hidden_2(z)))\n",
        "        z = self.dropout(F.relu(self.hidden_3(z)))\n",
        "        z = self.dropout(F.relu(self.hidden_4(z)))\n",
        "        out = F.log_softmax(self.output(z), dim=1)\n",
        "        return out"
      ],
      "execution_count": null,
      "outputs": []
    },
    {
      "cell_type": "code",
      "metadata": {
        "id": "ziVEAn1ILhMk",
        "colab_type": "code",
        "colab": {}
      },
      "source": [
        "model = Classifier(X_train.shape[1])\n",
        "criterion = nn.NLLLoss()\n",
        "optimizer = optim.Adam(model.parameters(), lr = 0.001)\n",
        "epochs = 400\n",
        "batch_size = 128\n"
      ],
      "execution_count": null,
      "outputs": []
    },
    {
      "cell_type": "code",
      "metadata": {
        "id": "9T26Z4QjMMDN",
        "colab_type": "code",
        "colab": {
          "base_uri": "https://localhost:8080/",
          "height": 734
        },
        "outputId": "6a0bc134-e010-4073-dcdc-62bfbe3a9950"
      },
      "source": [
        "train_losses, dev_losses, train_acc, dev_acc= [], [], [], []\n",
        "x_axis = []\n",
        "for e in range(1, epochs + 1):\n",
        "    X_, y_ = shuffle(X_train, y_train)\n",
        "    running_loss = 0\n",
        "    running_acc = 0\n",
        "    iterations = 0\n",
        "    for i in range(0, len(X_), batch_size):\n",
        "        iterations += 1\n",
        "        b = i + batch_size\n",
        "        X_batch = torch.tensor(X_.iloc[i:b,:].values).float()\n",
        "        y_batch = torch.tensor(y_.iloc[i:b].values)\n",
        "        pred = model(X_batch)\n",
        "        loss = criterion(pred, y_batch)\n",
        "        optimizer.zero_grad()\n",
        "        loss.backward()\n",
        "        optimizer.step()\n",
        "        running_loss += loss.item()\n",
        "        ps = torch.exp(pred)\n",
        "        top_p, top_class = ps.topk(1, dim=1)\n",
        "        running_acc += accuracy_score(y_batch, top_class)\n",
        "    dev_loss = 0\n",
        "    acc = 0\n",
        "    with torch.no_grad():\n",
        "        model.eval()\n",
        "        log_dev = model(X_dev_torch)\n",
        "        dev_loss = criterion(log_dev, y_dev_torch)\n",
        "        ps_dev = torch.exp(log_dev)\n",
        "        top_p, top_class_dev = ps_dev.topk(1, dim=1)\n",
        "        acc = accuracy_score(y_dev_torch, top_class_dev)\n",
        "    model.train()\n",
        "    if e%10 == 0 or e == 1:\n",
        "        x_axis.append(e)\n",
        "        train_losses.append(running_loss/iterations)\n",
        "        dev_losses.append(dev_loss)\n",
        "        train_acc.append(running_acc/iterations)\n",
        "        dev_acc.append(acc)\n",
        "        print(\"Epoch: {}/{}.. \".format(e, epochs), \n",
        "              \"Training Loss: {:.3f}.. \".format(running_loss/iterations), \n",
        "              \"Validation Loss: {:.3f}.. \".format(dev_loss),\n",
        "              \"Training Accuracy: {:.3f}.. \".format(running_acc/iterations), \n",
        "              \"Validation Accuracy: {:.3f}\".format(acc))"
      ],
      "execution_count": null,
      "outputs": [
        {
          "output_type": "stream",
          "text": [
            "Epoch: 1/400..  Training Loss: 0.619..  Validation Loss: 0.607..  Training Accuracy: 0.657..  Validation Accuracy: 0.665\n",
            "Epoch: 10/400..  Training Loss: 0.561..  Validation Loss: 0.562..  Training Accuracy: 0.712..  Validation Accuracy: 0.711\n",
            "Epoch: 20/400..  Training Loss: 0.551..  Validation Loss: 0.555..  Training Accuracy: 0.717..  Validation Accuracy: 0.712\n",
            "Epoch: 30/400..  Training Loss: 0.541..  Validation Loss: 0.554..  Training Accuracy: 0.725..  Validation Accuracy: 0.718\n",
            "Epoch: 40/400..  Training Loss: 0.533..  Validation Loss: 0.549..  Training Accuracy: 0.731..  Validation Accuracy: 0.717\n",
            "Epoch: 50/400..  Training Loss: 0.525..  Validation Loss: 0.545..  Training Accuracy: 0.737..  Validation Accuracy: 0.720\n",
            "Epoch: 60/400..  Training Loss: 0.516..  Validation Loss: 0.541..  Training Accuracy: 0.744..  Validation Accuracy: 0.726\n",
            "Epoch: 70/400..  Training Loss: 0.510..  Validation Loss: 0.537..  Training Accuracy: 0.748..  Validation Accuracy: 0.730\n",
            "Epoch: 80/400..  Training Loss: 0.504..  Validation Loss: 0.535..  Training Accuracy: 0.749..  Validation Accuracy: 0.733\n",
            "Epoch: 90/400..  Training Loss: 0.494..  Validation Loss: 0.541..  Training Accuracy: 0.758..  Validation Accuracy: 0.728\n",
            "Epoch: 100/400..  Training Loss: 0.490..  Validation Loss: 0.534..  Training Accuracy: 0.762..  Validation Accuracy: 0.738\n",
            "Epoch: 110/400..  Training Loss: 0.484..  Validation Loss: 0.526..  Training Accuracy: 0.766..  Validation Accuracy: 0.738\n",
            "Epoch: 120/400..  Training Loss: 0.476..  Validation Loss: 0.525..  Training Accuracy: 0.768..  Validation Accuracy: 0.743\n",
            "Epoch: 130/400..  Training Loss: 0.477..  Validation Loss: 0.521..  Training Accuracy: 0.768..  Validation Accuracy: 0.746\n",
            "Epoch: 140/400..  Training Loss: 0.471..  Validation Loss: 0.520..  Training Accuracy: 0.772..  Validation Accuracy: 0.747\n",
            "Epoch: 150/400..  Training Loss: 0.467..  Validation Loss: 0.528..  Training Accuracy: 0.773..  Validation Accuracy: 0.741\n",
            "Epoch: 160/400..  Training Loss: 0.462..  Validation Loss: 0.522..  Training Accuracy: 0.775..  Validation Accuracy: 0.750\n",
            "Epoch: 170/400..  Training Loss: 0.462..  Validation Loss: 0.511..  Training Accuracy: 0.778..  Validation Accuracy: 0.753\n",
            "Epoch: 180/400..  Training Loss: 0.454..  Validation Loss: 0.508..  Training Accuracy: 0.782..  Validation Accuracy: 0.757\n",
            "Epoch: 190/400..  Training Loss: 0.455..  Validation Loss: 0.510..  Training Accuracy: 0.781..  Validation Accuracy: 0.754\n",
            "Epoch: 200/400..  Training Loss: 0.455..  Validation Loss: 0.504..  Training Accuracy: 0.781..  Validation Accuracy: 0.760\n",
            "Epoch: 210/400..  Training Loss: 0.450..  Validation Loss: 0.511..  Training Accuracy: 0.784..  Validation Accuracy: 0.757\n",
            "Epoch: 220/400..  Training Loss: 0.445..  Validation Loss: 0.503..  Training Accuracy: 0.788..  Validation Accuracy: 0.759\n",
            "Epoch: 230/400..  Training Loss: 0.446..  Validation Loss: 0.506..  Training Accuracy: 0.787..  Validation Accuracy: 0.759\n",
            "Epoch: 240/400..  Training Loss: 0.443..  Validation Loss: 0.505..  Training Accuracy: 0.789..  Validation Accuracy: 0.759\n",
            "Epoch: 250/400..  Training Loss: 0.444..  Validation Loss: 0.501..  Training Accuracy: 0.787..  Validation Accuracy: 0.765\n",
            "Epoch: 260/400..  Training Loss: 0.440..  Validation Loss: 0.510..  Training Accuracy: 0.791..  Validation Accuracy: 0.761\n",
            "Epoch: 270/400..  Training Loss: 0.438..  Validation Loss: 0.501..  Training Accuracy: 0.789..  Validation Accuracy: 0.762\n",
            "Epoch: 280/400..  Training Loss: 0.438..  Validation Loss: 0.500..  Training Accuracy: 0.793..  Validation Accuracy: 0.761\n",
            "Epoch: 290/400..  Training Loss: 0.439..  Validation Loss: 0.497..  Training Accuracy: 0.791..  Validation Accuracy: 0.765\n",
            "Epoch: 300/400..  Training Loss: 0.431..  Validation Loss: 0.497..  Training Accuracy: 0.795..  Validation Accuracy: 0.770\n",
            "Epoch: 310/400..  Training Loss: 0.428..  Validation Loss: 0.502..  Training Accuracy: 0.800..  Validation Accuracy: 0.765\n",
            "Epoch: 320/400..  Training Loss: 0.435..  Validation Loss: 0.494..  Training Accuracy: 0.794..  Validation Accuracy: 0.771\n",
            "Epoch: 330/400..  Training Loss: 0.429..  Validation Loss: 0.501..  Training Accuracy: 0.795..  Validation Accuracy: 0.766\n",
            "Epoch: 340/400..  Training Loss: 0.434..  Validation Loss: 0.498..  Training Accuracy: 0.791..  Validation Accuracy: 0.765\n",
            "Epoch: 350/400..  Training Loss: 0.427..  Validation Loss: 0.494..  Training Accuracy: 0.798..  Validation Accuracy: 0.768\n",
            "Epoch: 360/400..  Training Loss: 0.426..  Validation Loss: 0.491..  Training Accuracy: 0.797..  Validation Accuracy: 0.772\n",
            "Epoch: 370/400..  Training Loss: 0.424..  Validation Loss: 0.488..  Training Accuracy: 0.798..  Validation Accuracy: 0.771\n",
            "Epoch: 380/400..  Training Loss: 0.429..  Validation Loss: 0.495..  Training Accuracy: 0.796..  Validation Accuracy: 0.770\n",
            "Epoch: 390/400..  Training Loss: 0.418..  Validation Loss: 0.493..  Training Accuracy: 0.804..  Validation Accuracy: 0.775\n",
            "Epoch: 400/400..  Training Loss: 0.422..  Validation Loss: 0.491..  Training Accuracy: 0.799..  Validation Accuracy: 0.773\n"
          ],
          "name": "stdout"
        }
      ]
    },
    {
      "cell_type": "code",
      "metadata": {
        "id": "nmDFOFVgOSli",
        "colab_type": "code",
        "colab": {
          "base_uri": "https://localhost:8080/",
          "height": 232
        },
        "outputId": "727d4015-2789-41f4-ea3d-4377a914ef71"
      },
      "source": [
        "fig = plt.figure(figsize=(15, 5))\n",
        "plt.plot(x_axis,train_losses, label='Training loss')\n",
        "plt.plot(x_axis, dev_losses, label='Validation loss')\n",
        "plt.legend(frameon=False , fontsize=15)\n",
        "plt.show()"
      ],
      "execution_count": null,
      "outputs": [
        {
          "output_type": "display_data",
          "data": {
            "image/png": "[encoded data removed]",
            "text/plain": [
              "<Figure size 1080x360 with 1 Axes>"
            ]
          },
          "metadata": {
            "tags": [],
            "needs_background": "light"
          }
        }
      ]
    },
    {
      "cell_type": "code",
      "metadata": {
        "id": "7iMBhJ4cQwpW",
        "colab_type": "code",
        "colab": {
          "base_uri": "https://localhost:8080/",
          "height": 234
        },
        "outputId": "4bc6d384-1ae7-419d-b0fa-19a71c8a54eb"
      },
      "source": [
        "fig = plt.figure(figsize=(15, 5))\n",
        "plt.plot(x_axis, train_acc, label=\"Training accuracy\")\n",
        "plt.plot(x_axis, dev_acc, label=\"Validation accuracy\")\n",
        "plt.legend(frameon=False , fontsize=15)\n",
        "plt.show()"
      ],
      "execution_count": null,
      "outputs": [
        {
          "output_type": "display_data",
          "data": {
            "image/png": "[encoded data removed]",
            "text/plain": [
              "<Figure size 1080x360 with 1 Axes>"
            ]
          },
          "metadata": {
            "tags": [],
            "needs_background": "light"
          }
        }
      ]
    },
    {
      "cell_type": "code",
      "metadata": {
        "id": "xVN5VL0gQybK",
        "colab_type": "code",
        "colab": {
          "base_uri": "https://localhost:8080/",
          "height": 34
        },
        "outputId": "e8a639b6-3403-4a03-9e6f-7c7840627aad"
      },
      "source": [
        "model.eval()\n",
        "test_pred = model(X_test_torch)\n",
        "test_pred = torch.exp(test_pred)\n",
        "top_p, top_class_test = test_pred.topk(1, dim=1)\n",
        "acc_test = accuracy_score(y_test_torch, top_class_test)\n",
        "print(acc_test)"
      ],
      "execution_count": null,
      "outputs": [
        {
          "output_type": "stream",
          "text": [
            "0.7756259362294029\n"
          ],
          "name": "stdout"
        }
      ]
    },
    {
      "cell_type": "code",
      "metadata": {
        "id": "mRhxeLgnyaaL",
        "colab_type": "code",
        "colab": {}
      },
      "source": [
        ""
      ],
      "execution_count": null,
      "outputs": []
    }
  ]
}