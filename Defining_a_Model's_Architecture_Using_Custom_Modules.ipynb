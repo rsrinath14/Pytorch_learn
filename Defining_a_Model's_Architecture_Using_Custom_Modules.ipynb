{
  "nbformat": 4,
  "nbformat_minor": 0,
  "metadata": {
    "colab": {
      "name": "Defining a Model's Architecture Using Custom Modules.ipynb",
      "provenance": [],
      "collapsed_sections": []
    },
    "kernelspec": {
      "name": "python3",
      "display_name": "Python 3"
    }
  },
  "cells": [
    {
      "cell_type": "code",
      "metadata": {
        "id": "suCDNFtBv1gm",
        "colab_type": "code",
        "colab": {}
      },
      "source": [
        "import torch\n",
        "import torch.nn as nn\n",
        "import torch.nn.functional as F"
      ],
      "execution_count": 3,
      "outputs": []
    },
    {
      "cell_type": "code",
      "metadata": {
        "id": "FSzz60kqx_on",
        "colab_type": "code",
        "colab": {}
      },
      "source": [
        "D_i = 10\n",
        "D_h = 5\n",
        "D_o = 2"
      ],
      "execution_count": 4,
      "outputs": []
    },
    {
      "cell_type": "code",
      "metadata": {
        "id": "2aUk5XdbyIkE",
        "colab_type": "code",
        "colab": {}
      },
      "source": [
        "class Classifier(torch.nn.Module):\n",
        "    def __init__(self, D_i, D_h, D_o):\n",
        "        super().__init__()\n",
        "        self.linear1 = torch.nn.Linear(D_i, D_h)\n",
        "        self.linear2 = torch.nn.Linear(D_h, D_o)\n",
        "    def forward(self, x):\n",
        "        z = F.relu(self.linear1(x))\n",
        "        o = F.softmax(self.linear2(z))\n",
        "        return o"
      ],
      "execution_count": 5,
      "outputs": []
    },
    {
      "cell_type": "code",
      "metadata": {
        "id": "CTuHOtAKBvyE",
        "colab_type": "code",
        "colab": {
          "base_uri": "https://localhost:8080/",
          "height": 85
        },
        "outputId": "7fb10532-25dc-4088-f627-e44f4ba08684"
      },
      "source": [
        "model = Classifier(D_i, D_h, D_o)\n",
        "print(model)"
      ],
      "execution_count": 6,
      "outputs": [
        {
          "output_type": "stream",
          "text": [
            "Classifier(\n",
            "  (linear1): Linear(in_features=10, out_features=5, bias=True)\n",
            "  (linear2): Linear(in_features=5, out_features=2, bias=True)\n",
            ")\n"
          ],
          "name": "stdout"
        }
      ]
    },
    {
      "cell_type": "code",
      "metadata": {
        "id": "xPDjzW3_By0F",
        "colab_type": "code",
        "colab": {}
      },
      "source": [
        ""
      ],
      "execution_count": null,
      "outputs": []
    }
  ]
}