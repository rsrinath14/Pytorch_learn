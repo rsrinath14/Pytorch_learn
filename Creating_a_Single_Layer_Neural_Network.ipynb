{
  "nbformat": 4,
  "nbformat_minor": 0,
  "metadata": {
    "colab": {
      "name": "Creating a Single-Layer Neural Network.ipynb",
      "provenance": [],
      "collapsed_sections": []
    },
    "kernelspec": {
      "name": "python3",
      "display_name": "Python 3"
    }
  },
  "cells": [
    {
      "cell_type": "code",
      "metadata": {
        "id": "m0kZriiqkrlO",
        "colab_type": "code",
        "colab": {}
      },
      "source": [
        "import pandas as pd\n",
        "import numpy as np\n",
        "import torch\n",
        "import torch.nn as nn\n",
        "import torch.optim as optim\n",
        "import matplotlib.pyplot as plt"
      ],
      "execution_count": null,
      "outputs": []
    },
    {
      "cell_type": "code",
      "metadata": {
        "id": "OpmlfiyPk8xz",
        "colab_type": "code",
        "colab": {}
      },
      "source": [
        "data = pd.read_csv(\"https://raw.githubusercontent.com/PacktWorkshops/The-Deep-Learning-with-PyTorch-Workshop/master/Chapter01/Activity1.01/SomervilleHappinessSurvey2015.csv\")"
      ],
      "execution_count": null,
      "outputs": []
    },
    {
      "cell_type": "code",
      "metadata": {
        "id": "LpHiO2h7lDkK",
        "colab_type": "code",
        "colab": {}
      },
      "source": [
        "x = torch.tensor(data.iloc[:,1:].values).float()"
      ],
      "execution_count": null,
      "outputs": []
    },
    {
      "cell_type": "code",
      "metadata": {
        "id": "oNJSE7lHlS77",
        "colab_type": "code",
        "colab": {}
      },
      "source": [
        "y = torch.tensor(data.iloc[:,0].values).float()"
      ],
      "execution_count": null,
      "outputs": []
    },
    {
      "cell_type": "code",
      "metadata": {
        "id": "5F7gnHUHlfAC",
        "colab_type": "code",
        "colab": {}
      },
      "source": [
        "model = nn.Sequential(nn.Linear(6,1),\n",
        "                      nn.Sigmoid(),\n",
        "                      )"
      ],
      "execution_count": null,
      "outputs": []
    },
    {
      "cell_type": "code",
      "metadata": {
        "id": "FcnKuOttmy1a",
        "colab_type": "code",
        "colab": {}
      },
      "source": [
        "loss_function = nn.MSELoss()"
      ],
      "execution_count": null,
      "outputs": []
    },
    {
      "cell_type": "code",
      "metadata": {
        "id": "sa-jsc4Tm57n",
        "colab_type": "code",
        "colab": {}
      },
      "source": [
        "optimizer = optim.Adam(model.parameters(), lr = 0.01)\n"
      ],
      "execution_count": null,
      "outputs": []
    },
    {
      "cell_type": "code",
      "metadata": {
        "id": "7RAuQsptnNJP",
        "colab_type": "code",
        "colab": {
          "base_uri": "https://localhost:8080/",
          "height": 1000
        },
        "outputId": "c3cbc654-c445-4e9d-c4c6-8259b3d559cd"
      },
      "source": [
        "losses = []\n",
        "for i in range(100):\n",
        "  y_pred = model(x)\n",
        "  loss = loss_function(y_pred, y)\n",
        "  losses.append(loss.item())\n",
        "  optimizer.zero_grad()\n",
        "  loss.backward()\n",
        "  optimizer.step()\n",
        "  print(loss.item())"
      ],
      "execution_count": null,
      "outputs": [
        {
          "output_type": "stream",
          "text": [
            "/usr/local/lib/python3.6/dist-packages/torch/nn/modules/loss.py:445: UserWarning: Using a target size (torch.Size([143])) that is different to the input size (torch.Size([143, 1])). This will likely lead to incorrect results due to broadcasting. Please ensure they have the same size.\n",
            "  return F.mse_loss(input, target, reduction=self.reduction)\n"
          ],
          "name": "stderr"
        },
        {
          "output_type": "stream",
          "text": [
            "0.2668139636516571\n",
            "0.25899308919906616\n",
            "0.25625815987586975\n",
            "0.25760650634765625\n",
            "0.25947070121765137\n",
            "0.25962215662002563\n",
            "0.25841766595840454\n",
            "0.2569279074668884\n",
            "0.25598064064979553\n",
            "0.25586891174316406\n",
            "0.2563415765762329\n",
            "0.256864994764328\n",
            "0.2570212483406067\n",
            "0.2567145824432373\n",
            "0.25612154603004456\n",
            "0.2555318772792816\n",
            "0.2551822364330292\n",
            "0.25514721870422363\n",
            "0.25531455874443054\n",
            "0.25547170639038086\n",
            "0.25544995069503784\n",
            "0.2552194893360138\n",
            "0.25487878918647766\n",
            "0.2545734941959381\n",
            "0.25440511107444763\n",
            "0.25437816977500916\n",
            "0.25441402196884155\n",
            "0.2544098496437073\n",
            "0.25430646538734436\n",
            "0.25411519408226013\n",
            "0.2539003789424896\n",
            "0.2537325322628021\n",
            "0.25364193320274353\n",
            "0.2536071240901947\n",
            "0.25357237458229065\n",
            "0.2534920871257782\n",
            "0.2533598244190216\n",
            "0.25320538878440857\n",
            "0.2530714273452759\n",
            "0.2529791295528412\n",
            "0.2529186010360718\n",
            "0.25286027789115906\n",
            "0.2527785003185272\n",
            "0.2526695132255554\n",
            "0.2525513470172882\n",
            "0.2524462640285492\n",
            "0.2523643970489502\n",
            "0.252298504114151\n",
            "0.2522304058074951\n",
            "0.2521475851535797\n",
            "0.2520533800125122\n",
            "0.2519586384296417\n",
            "0.2518754005432129\n",
            "0.2518048584461212\n",
            "0.2517392635345459\n",
            "0.2516687214374542\n",
            "0.25159090757369995\n",
            "0.2515099048614502\n",
            "0.2514340281486511\n",
            "0.25136658549308777\n",
            "0.25130394101142883\n",
            "0.2512405216693878\n",
            "0.2511732578277588\n",
            "0.25110459327697754\n",
            "0.2510383725166321\n",
            "0.250977098941803\n",
            "0.250919371843338\n",
            "0.25086233019828796\n",
            "0.2508035898208618\n",
            "0.2507445812225342\n",
            "0.2506871223449707\n",
            "0.2506329119205475\n",
            "0.2505815625190735\n",
            "0.2505308985710144\n",
            "0.25047969818115234\n",
            "0.2504286468029022\n",
            "0.25037917494773865\n",
            "0.2503320276737213\n",
            "0.25028711557388306\n",
            "0.2502422332763672\n",
            "0.25019773840904236\n",
            "0.2501537799835205\n",
            "0.25011157989501953\n",
            "0.25007081031799316\n",
            "0.2500317096710205\n",
            "0.24999262392520905\n",
            "0.24995434284210205\n",
            "0.24991656839847565\n",
            "0.24988046288490295\n",
            "0.2498454600572586\n",
            "0.24981150031089783\n",
            "0.249777689576149\n",
            "0.24974481761455536\n",
            "0.24971319735050201\n",
            "0.24968208372592926\n",
            "0.2496521919965744\n",
            "0.24962253868579865\n",
            "0.24959392845630646\n",
            "0.2495657354593277\n",
            "0.2495385855436325\n"
          ],
          "name": "stdout"
        }
      ]
    },
    {
      "cell_type": "code",
      "metadata": {
        "id": "jsedWaeMn2LM",
        "colab_type": "code",
        "colab": {
          "base_uri": "https://localhost:8080/",
          "height": 267
        },
        "outputId": "364444be-d688-4c5b-ce48-3e1f4cbfeb6e"
      },
      "source": [
        "plt.plot(range(0,100), losses)\n",
        "plt.show()"
      ],
      "execution_count": null,
      "outputs": [
        {
          "output_type": "display_data",
          "data": {
            "image/png": "[encoded data removed]",
            "text/plain": [
              "<Figure size 432x288 with 1 Axes>"
            ]
          },
          "metadata": {
            "tags": [],
            "needs_background": "light"
          }
        }
      ]
    },
    {
      "cell_type": "code",
      "metadata": {
        "id": "FtFi7GoyoFl2",
        "colab_type": "code",
        "colab": {}
      },
      "source": [
        ""
      ],
      "execution_count": null,
      "outputs": []
    }
  ]
}