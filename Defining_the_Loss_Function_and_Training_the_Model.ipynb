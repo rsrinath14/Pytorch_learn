{
  "nbformat": 4,
  "nbformat_minor": 0,
  "metadata": {
    "colab": {
      "name": "Defining the Loss Function and Training the Model.ipynb",
      "provenance": [],
      "collapsed_sections": []
    },
    "kernelspec": {
      "name": "python3",
      "display_name": "Python 3"
    }
  },
  "cells": [
    {
      "cell_type": "code",
      "metadata": {
        "id": "2UdabAmjL7rb",
        "colab_type": "code",
        "colab": {}
      },
      "source": [
        "'''\n",
        "model = Classifier()\n",
        "criterion = nn.NLLLoss()\n",
        "optimizer = optim.Adam(model.parameters(), lr = 0.005)\n",
        "epochs = 10\n",
        "batch_size = 100\n",
        "\n",
        "'''"
      ],
      "execution_count": null,
      "outputs": []
    },
    {
      "cell_type": "code",
      "metadata": {
        "id": "P5Rfvy5KM3T-",
        "colab_type": "code",
        "colab": {}
      },
      "source": [
        "'''\n",
        "train_losses, dev_losses, train_acc, dev_acc = [],[],[],[]\n",
        "for e in range(epochs):\n",
        "  X,y = shuffle(X_train,y_train)\n",
        "  running_loss  = 0\n",
        "  running_acc = 0\n",
        "  iterations = 0\n",
        "  for i in range(0,len(X), batch_size):\n",
        "    iterations +=1\n",
        "    b = i + batch_size\n",
        "    X_batch = torch.tensor(X.iloc[i:b,:].values).float()\n",
        "    y_batch = torch.tensor(y.iloc[i:b].values)\n",
        "    pred = model(X_batch)\n",
        "    loss = criterian(pred,y_batch)\n",
        "    optimizer.zero_grad()\n",
        "    loss.backward()\n",
        "    optimizer.step()\n",
        "    running_loss += loss.item()\n",
        "    ps = torch.exp(pred)\n",
        "    top_p,top_class = ps.topk(1,dim = 1)\n",
        "    running_acc += accuracy_score(y_batch, top_class)\n",
        "  \n",
        "  dev_loss = 0\n",
        "  acc = 0\n",
        "\n",
        "  with torch.no_grad():\n",
        "    pred_dev = model(X_dev_torch)\n",
        "    dev_loss = criterian(pred_dev,y_dev_torch)\n",
        "    ps_dev  = torch.exp(pred_dev)\n",
        "    top_p, top_class_dev = ps_dev.topk(1, dim=1)\n",
        "    acc = accuracy_score(y_dev_torch, top_class_dev)\n",
        "  train_losses.append(running_loss/iterations)\n",
        "  dev_losses.append(dev_loss)\n",
        "  train_acc.append(running_acc/iterations)\n",
        "  dev_acc.append(acc)\n",
        "  print(\"Epoch: {}/{}.. \".format(e+1, epochs),\n",
        "          \"Training Loss: {:.3f}.. \".format(running_loss/iterations),\n",
        "          \"Validation Loss: {:.3f}.. \".format(dev_loss),\n",
        "          \"Training Accuracy: {:.3f}.. \".format(running_acc/iterations),\n",
        "          \"Validation Accuracy: {:.3f}\".format(acc))\n",
        "\n",
        "'''"
      ],
      "execution_count": null,
      "outputs": []
    }
  ]
}