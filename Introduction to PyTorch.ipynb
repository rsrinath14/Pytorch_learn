{
  "nbformat": 4,
  "nbformat_minor": 0,
  "metadata": {
    "colab": {
      "name": "Introduction to PyTorch.ipynb",
      "provenance": [],
      "collapsed_sections": []
    },
    "kernelspec": {
      "name": "python3",
      "display_name": "Python 3"
    },
    "accelerator": "GPU"
  },
  "cells": [
    {
      "cell_type": "code",
      "metadata": {
        "id": "vqgGV3QoUFi3",
        "colab_type": "code",
        "colab": {
          "base_uri": "https://localhost:8080/",
          "height": 35
        },
        "outputId": "d23fbdff-61c3-4bc0-d7e8-60325af1b8bd"
      },
      "source": [
        "# In PyTorch, the allocation of variables to CUDA can be done through the use of the torch.cuda package\n",
        "'''\n",
        "x = torch.Tensor(10).random_(0,10)\n",
        "x.to(\"cuda\")\n",
        "'''\n",
        "\n",
        "# to locate a variable back to CPU\n",
        "'''\n",
        "x.to(\"cpu\")\n",
        "'''"
      ],
      "execution_count": null,
      "outputs": [
        {
          "output_type": "execute_result",
          "data": {
            "application/vnd.google.colaboratory.intrinsic+json": {
              "type": "string"
            },
            "text/plain": [
              "'\\nx.to(\"cpu\")\\n'"
            ]
          },
          "metadata": {
            "tags": []
          },
          "execution_count": 1
        }
      ]
    },
    {
      "cell_type": "code",
      "metadata": {
        "id": "2E2msL0rUlab",
        "colab_type": "code",
        "colab": {
          "base_uri": "https://localhost:8080/",
          "height": 34
        },
        "outputId": "a8cb37b7-c3fa-4eca-dce5-1b66a3bcf867"
      },
      "source": [
        "import torch\n",
        "import torchvision\n",
        "torch.cuda.is_available()"
      ],
      "execution_count": null,
      "outputs": [
        {
          "output_type": "execute_result",
          "data": {
            "text/plain": [
              "True"
            ]
          },
          "metadata": {
            "tags": []
          },
          "execution_count": 2
        }
      ]
    },
    {
      "cell_type": "code",
      "metadata": {
        "id": "pY_JZ2sTUle8",
        "colab_type": "code",
        "colab": {}
      },
      "source": [
        "tensor_1 = torch.tensor([1,1,0,2])\n",
        "tensor_2 = torch.tensor([[0,0,2,1,2],[1,0,2,2,0]])"
      ],
      "execution_count": null,
      "outputs": []
    },
    {
      "cell_type": "code",
      "metadata": {
        "id": "Z0qYP5VKUlhk",
        "colab_type": "code",
        "colab": {
          "base_uri": "https://localhost:8080/",
          "height": 34
        },
        "outputId": "a3b1217c-6a9e-4c5a-ad73-9704928f25a8"
      },
      "source": [
        "tensor_1.shape"
      ],
      "execution_count": null,
      "outputs": [
        {
          "output_type": "execute_result",
          "data": {
            "text/plain": [
              "torch.Size([4])"
            ]
          },
          "metadata": {
            "tags": []
          },
          "execution_count": 4
        }
      ]
    },
    {
      "cell_type": "code",
      "metadata": {
        "id": "sy2q87t5Ulmf",
        "colab_type": "code",
        "colab": {
          "base_uri": "https://localhost:8080/",
          "height": 34
        },
        "outputId": "00af76b9-c771-4330-e8b1-bfd32ce994f9"
      },
      "source": [
        "tensor_2.shape"
      ],
      "execution_count": null,
      "outputs": [
        {
          "output_type": "execute_result",
          "data": {
            "text/plain": [
              "torch.Size([2, 5])"
            ]
          },
          "metadata": {
            "tags": []
          },
          "execution_count": 5
        }
      ]
    },
    {
      "cell_type": "code",
      "metadata": {
        "id": "Bnah_hV5Ulc9",
        "colab_type": "code",
        "colab": {}
      },
      "source": [
        "tensor = torch.tensor([1,2,8,5]).cuda()"
      ],
      "execution_count": null,
      "outputs": []
    },
    {
      "cell_type": "code",
      "metadata": {
        "id": "CNt7ENSGbE-_",
        "colab_type": "code",
        "colab": {}
      },
      "source": [
        "example_1 = torch.randn(3,3)\n"
      ],
      "execution_count": null,
      "outputs": []
    },
    {
      "cell_type": "code",
      "metadata": {
        "id": "WGVfia4McI5D",
        "colab_type": "code",
        "colab": {
          "base_uri": "https://localhost:8080/",
          "height": 68
        },
        "outputId": "21ff497c-b9b8-4f4a-a51b-1f1f77a6a2ff"
      },
      "source": [
        "print(example_1)"
      ],
      "execution_count": null,
      "outputs": [
        {
          "output_type": "stream",
          "text": [
            "tensor([[-0.5149,  2.1274,  1.0967],\n",
            "        [ 0.8181, -0.0065, -0.7666],\n",
            "        [ 1.1395,  0.9300,  0.4682]])\n"
          ],
          "name": "stdout"
        }
      ]
    },
    {
      "cell_type": "code",
      "metadata": {
        "id": "DlaBaUrccLTC",
        "colab_type": "code",
        "colab": {}
      },
      "source": [
        "example_2 = torch.randint(low = 0, high = 2, size = (3,3)).type(torch.FloatTensor)"
      ],
      "execution_count": null,
      "outputs": []
    },
    {
      "cell_type": "code",
      "metadata": {
        "id": "RxmkW_36dVqt",
        "colab_type": "code",
        "colab": {
          "base_uri": "https://localhost:8080/",
          "height": 68
        },
        "outputId": "c4aa160a-de04-4532-bfe0-e57d659e049f"
      },
      "source": [
        "print(example_2)"
      ],
      "execution_count": null,
      "outputs": [
        {
          "output_type": "stream",
          "text": [
            "tensor([[0., 0., 1.],\n",
            "        [1., 0., 0.],\n",
            "        [0., 0., 1.]])\n"
          ],
          "name": "stdout"
        }
      ]
    },
    {
      "cell_type": "code",
      "metadata": {
        "id": "vhh08M9QdcPo",
        "colab_type": "code",
        "colab": {}
      },
      "source": [
        ""
      ],
      "execution_count": null,
      "outputs": []
    }
  ]
}